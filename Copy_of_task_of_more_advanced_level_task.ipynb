{
  "nbformat": 4,
  "nbformat_minor": 0,
  "metadata": {
    "colab": {
      "provenance": [],
      "authorship_tag": "ABX9TyOHILsiITep6sVpqjruoLDc",
      "include_colab_link": true
    },
    "kernelspec": {
      "name": "python3",
      "display_name": "Python 3"
    },
    "language_info": {
      "name": "python"
    }
  },
  "cells": [
    {
      "cell_type": "markdown",
      "metadata": {
        "id": "view-in-github",
        "colab_type": "text"
      },
      "source": [
        "<a href=\"https://colab.research.google.com/github/vaishnaviravi506/LGMVIP-DataScience-Intern/blob/MORE-ADVANCED-LEVEL-TASK/Copy_of_task_of_more_advanced_level_task.ipynb\" target=\"_parent\"><img src=\"https://colab.research.google.com/assets/colab-badge.svg\" alt=\"Open In Colab\"/></a>"
      ]
    },
    {
      "cell_type": "code",
      "execution_count": null,
      "metadata": {
        "id": "uUXqPsSBCdRG"
      },
      "outputs": [],
      "source": [
        "import numpy as np\n",
        "import pandas as pd\n",
        "import matplotlib.pyplot as plt\n",
        "%matplotlib inline"
      ]
    },
    {
      "cell_type": "code",
      "source": [
        "data = pd.read_csv('/content/fer2013.csv')"
      ],
      "metadata": {
        "id": "pWVrBGbeCfKo"
      },
      "execution_count": null,
      "outputs": []
    },
    {
      "cell_type": "code",
      "source": [
        "data.head()"
      ],
      "metadata": {
        "colab": {
          "base_uri": "https://localhost:8080/",
          "height": 206
        },
        "id": "aSgtDtlICppU",
        "outputId": "646fcd5c-a588-4f90-af1d-377cc5c38eef"
      },
      "execution_count": null,
      "outputs": [
        {
          "output_type": "execute_result",
          "data": {
            "text/plain": [
              "   emotion                                             pixels     Usage\n",
              "0        0  70 80 82 72 58 58 60 63 54 58 60 48 89 115 121...  Training\n",
              "1        0  151 150 147 155 148 133 111 140 170 174 182 15...  Training\n",
              "2        2  231 212 156 164 174 138 161 173 182 200 106 38...  Training\n",
              "3        4  24 32 36 30 32 23 19 20 30 41 21 22 32 34 21 1...  Training\n",
              "4        6  4 0 0 0 0 0 0 0 0 0 0 0 3 15 23 28 48 50 58 84...  Training"
            ],
            "text/html": [
              "\n",
              "\n",
              "  <div id=\"df-9cc8beea-4e95-4497-b6c0-fe4181dd3e5d\">\n",
              "    <div class=\"colab-df-container\">\n",
              "      <div>\n",
              "<style scoped>\n",
              "    .dataframe tbody tr th:only-of-type {\n",
              "        vertical-align: middle;\n",
              "    }\n",
              "\n",
              "    .dataframe tbody tr th {\n",
              "        vertical-align: top;\n",
              "    }\n",
              "\n",
              "    .dataframe thead th {\n",
              "        text-align: right;\n",
              "    }\n",
              "</style>\n",
              "<table border=\"1\" class=\"dataframe\">\n",
              "  <thead>\n",
              "    <tr style=\"text-align: right;\">\n",
              "      <th></th>\n",
              "      <th>emotion</th>\n",
              "      <th>pixels</th>\n",
              "      <th>Usage</th>\n",
              "    </tr>\n",
              "  </thead>\n",
              "  <tbody>\n",
              "    <tr>\n",
              "      <th>0</th>\n",
              "      <td>0</td>\n",
              "      <td>70 80 82 72 58 58 60 63 54 58 60 48 89 115 121...</td>\n",
              "      <td>Training</td>\n",
              "    </tr>\n",
              "    <tr>\n",
              "      <th>1</th>\n",
              "      <td>0</td>\n",
              "      <td>151 150 147 155 148 133 111 140 170 174 182 15...</td>\n",
              "      <td>Training</td>\n",
              "    </tr>\n",
              "    <tr>\n",
              "      <th>2</th>\n",
              "      <td>2</td>\n",
              "      <td>231 212 156 164 174 138 161 173 182 200 106 38...</td>\n",
              "      <td>Training</td>\n",
              "    </tr>\n",
              "    <tr>\n",
              "      <th>3</th>\n",
              "      <td>4</td>\n",
              "      <td>24 32 36 30 32 23 19 20 30 41 21 22 32 34 21 1...</td>\n",
              "      <td>Training</td>\n",
              "    </tr>\n",
              "    <tr>\n",
              "      <th>4</th>\n",
              "      <td>6</td>\n",
              "      <td>4 0 0 0 0 0 0 0 0 0 0 0 3 15 23 28 48 50 58 84...</td>\n",
              "      <td>Training</td>\n",
              "    </tr>\n",
              "  </tbody>\n",
              "</table>\n",
              "</div>\n",
              "      <button class=\"colab-df-convert\" onclick=\"convertToInteractive('df-9cc8beea-4e95-4497-b6c0-fe4181dd3e5d')\"\n",
              "              title=\"Convert this dataframe to an interactive table.\"\n",
              "              style=\"display:none;\">\n",
              "\n",
              "  <svg xmlns=\"http://www.w3.org/2000/svg\" height=\"24px\"viewBox=\"0 0 24 24\"\n",
              "       width=\"24px\">\n",
              "    <path d=\"M0 0h24v24H0V0z\" fill=\"none\"/>\n",
              "    <path d=\"M18.56 5.44l.94 2.06.94-2.06 2.06-.94-2.06-.94-.94-2.06-.94 2.06-2.06.94zm-11 1L8.5 8.5l.94-2.06 2.06-.94-2.06-.94L8.5 2.5l-.94 2.06-2.06.94zm10 10l.94 2.06.94-2.06 2.06-.94-2.06-.94-.94-2.06-.94 2.06-2.06.94z\"/><path d=\"M17.41 7.96l-1.37-1.37c-.4-.4-.92-.59-1.43-.59-.52 0-1.04.2-1.43.59L10.3 9.45l-7.72 7.72c-.78.78-.78 2.05 0 2.83L4 21.41c.39.39.9.59 1.41.59.51 0 1.02-.2 1.41-.59l7.78-7.78 2.81-2.81c.8-.78.8-2.07 0-2.86zM5.41 20L4 18.59l7.72-7.72 1.47 1.35L5.41 20z\"/>\n",
              "  </svg>\n",
              "      </button>\n",
              "\n",
              "\n",
              "\n",
              "    <div id=\"df-bb33b54e-7f2b-4dd2-ba7a-a1e74c9bfd24\">\n",
              "      <button class=\"colab-df-quickchart\" onclick=\"quickchart('df-bb33b54e-7f2b-4dd2-ba7a-a1e74c9bfd24')\"\n",
              "              title=\"Suggest charts.\"\n",
              "              style=\"display:none;\">\n",
              "\n",
              "<svg xmlns=\"http://www.w3.org/2000/svg\" height=\"24px\"viewBox=\"0 0 24 24\"\n",
              "     width=\"24px\">\n",
              "    <g>\n",
              "        <path d=\"M19 3H5c-1.1 0-2 .9-2 2v14c0 1.1.9 2 2 2h14c1.1 0 2-.9 2-2V5c0-1.1-.9-2-2-2zM9 17H7v-7h2v7zm4 0h-2V7h2v10zm4 0h-2v-4h2v4z\"/>\n",
              "    </g>\n",
              "</svg>\n",
              "      </button>\n",
              "    </div>\n",
              "\n",
              "<style>\n",
              "  .colab-df-quickchart {\n",
              "    background-color: #E8F0FE;\n",
              "    border: none;\n",
              "    border-radius: 50%;\n",
              "    cursor: pointer;\n",
              "    display: none;\n",
              "    fill: #1967D2;\n",
              "    height: 32px;\n",
              "    padding: 0 0 0 0;\n",
              "    width: 32px;\n",
              "  }\n",
              "\n",
              "  .colab-df-quickchart:hover {\n",
              "    background-color: #E2EBFA;\n",
              "    box-shadow: 0px 1px 2px rgba(60, 64, 67, 0.3), 0px 1px 3px 1px rgba(60, 64, 67, 0.15);\n",
              "    fill: #174EA6;\n",
              "  }\n",
              "\n",
              "  [theme=dark] .colab-df-quickchart {\n",
              "    background-color: #3B4455;\n",
              "    fill: #D2E3FC;\n",
              "  }\n",
              "\n",
              "  [theme=dark] .colab-df-quickchart:hover {\n",
              "    background-color: #434B5C;\n",
              "    box-shadow: 0px 1px 3px 1px rgba(0, 0, 0, 0.15);\n",
              "    filter: drop-shadow(0px 1px 2px rgba(0, 0, 0, 0.3));\n",
              "    fill: #FFFFFF;\n",
              "  }\n",
              "</style>\n",
              "\n",
              "    <script>\n",
              "      async function quickchart(key) {\n",
              "        const containerElement = document.querySelector('#' + key);\n",
              "        const charts = await google.colab.kernel.invokeFunction(\n",
              "            'suggestCharts', [key], {});\n",
              "      }\n",
              "    </script>\n",
              "\n",
              "      <script>\n",
              "\n",
              "function displayQuickchartButton(domScope) {\n",
              "  let quickchartButtonEl =\n",
              "    domScope.querySelector('#df-bb33b54e-7f2b-4dd2-ba7a-a1e74c9bfd24 button.colab-df-quickchart');\n",
              "  quickchartButtonEl.style.display =\n",
              "    google.colab.kernel.accessAllowed ? 'block' : 'none';\n",
              "}\n",
              "\n",
              "        displayQuickchartButton(document);\n",
              "      </script>\n",
              "      <style>\n",
              "    .colab-df-container {\n",
              "      display:flex;\n",
              "      flex-wrap:wrap;\n",
              "      gap: 12px;\n",
              "    }\n",
              "\n",
              "    .colab-df-convert {\n",
              "      background-color: #E8F0FE;\n",
              "      border: none;\n",
              "      border-radius: 50%;\n",
              "      cursor: pointer;\n",
              "      display: none;\n",
              "      fill: #1967D2;\n",
              "      height: 32px;\n",
              "      padding: 0 0 0 0;\n",
              "      width: 32px;\n",
              "    }\n",
              "\n",
              "    .colab-df-convert:hover {\n",
              "      background-color: #E2EBFA;\n",
              "      box-shadow: 0px 1px 2px rgba(60, 64, 67, 0.3), 0px 1px 3px 1px rgba(60, 64, 67, 0.15);\n",
              "      fill: #174EA6;\n",
              "    }\n",
              "\n",
              "    [theme=dark] .colab-df-convert {\n",
              "      background-color: #3B4455;\n",
              "      fill: #D2E3FC;\n",
              "    }\n",
              "\n",
              "    [theme=dark] .colab-df-convert:hover {\n",
              "      background-color: #434B5C;\n",
              "      box-shadow: 0px 1px 3px 1px rgba(0, 0, 0, 0.15);\n",
              "      filter: drop-shadow(0px 1px 2px rgba(0, 0, 0, 0.3));\n",
              "      fill: #FFFFFF;\n",
              "    }\n",
              "  </style>\n",
              "\n",
              "      <script>\n",
              "        const buttonEl =\n",
              "          document.querySelector('#df-9cc8beea-4e95-4497-b6c0-fe4181dd3e5d button.colab-df-convert');\n",
              "        buttonEl.style.display =\n",
              "          google.colab.kernel.accessAllowed ? 'block' : 'none';\n",
              "\n",
              "        async function convertToInteractive(key) {\n",
              "          const element = document.querySelector('#df-9cc8beea-4e95-4497-b6c0-fe4181dd3e5d');\n",
              "          const dataTable =\n",
              "            await google.colab.kernel.invokeFunction('convertToInteractive',\n",
              "                                                     [key], {});\n",
              "          if (!dataTable) return;\n",
              "\n",
              "          const docLinkHtml = 'Like what you see? Visit the ' +\n",
              "            '<a target=\"_blank\" href=https://colab.research.google.com/notebooks/data_table.ipynb>data table notebook</a>'\n",
              "            + ' to learn more about interactive tables.';\n",
              "          element.innerHTML = '';\n",
              "          dataTable['output_type'] = 'display_data';\n",
              "          await google.colab.output.renderOutput(dataTable, element);\n",
              "          const docLink = document.createElement('div');\n",
              "          docLink.innerHTML = docLinkHtml;\n",
              "          element.appendChild(docLink);\n",
              "        }\n",
              "      </script>\n",
              "    </div>\n",
              "  </div>\n"
            ]
          },
          "metadata": {},
          "execution_count": 3
        }
      ]
    },
    {
      "cell_type": "code",
      "source": [
        "data.shape"
      ],
      "metadata": {
        "colab": {
          "base_uri": "https://localhost:8080/"
        },
        "id": "9CEaj5OiCxRJ",
        "outputId": "99e41307-91ce-44e0-c2a3-88c5b1bcfcbc"
      },
      "execution_count": null,
      "outputs": [
        {
          "output_type": "execute_result",
          "data": {
            "text/plain": [
              "(499, 3)"
            ]
          },
          "metadata": {},
          "execution_count": 4
        }
      ]
    },
    {
      "cell_type": "code",
      "source": [
        "labels = data.iloc[:, 0]"
      ],
      "metadata": {
        "id": "ehhxJCtGC1FE"
      },
      "execution_count": null,
      "outputs": []
    },
    {
      "cell_type": "code",
      "source": [
        "plt.figure(figsize = (10,10))\n",
        "for index,image in enumerate(images[:9]):\n",
        "    plt.subplot(3,3,index+1)\n",
        "    plt.imshow(image.reshape((48,48)), cmap = 'gray')\n",
        "plt.show()"
      ],
      "metadata": {
        "colab": {
          "base_uri": "https://localhost:8080/",
          "height": 833
        },
        "id": "pYiZEDYeC8cQ",
        "outputId": "ed884bd7-a237-4de5-d0bc-5ffeeb4d5846"
      },
      "execution_count": null,
      "outputs": [
        {
          "output_type": "display_data",
          "data": {
            "text/plain": [
              "<Figure size 1000x1000 with 9 Axes>"
            ],
            "image/png": "[encoded data removed]"
          },
          "metadata": {}
        }
      ]
    },
    {
      "cell_type": "code",
      "source": [
        "train_or_test = data.iloc[:, 2].values\n",
        "data[\"Usage\"].unique()"
      ],
      "metadata": {
        "colab": {
          "base_uri": "https://localhost:8080/"
        },
        "id": "3tkoWviKDEu6",
        "outputId": "65f7cbd2-192c-4253-e07f-56d54ccdd06f"
      },
      "execution_count": null,
      "outputs": [
        {
          "output_type": "execute_result",
          "data": {
            "text/plain": [
              "array(['Training', nan], dtype=object)"
            ]
          },
          "metadata": {},
          "execution_count": 8
        }
      ]
    },
    {
      "cell_type": "code",
      "source": [
        "data['emotion'].unique()"
      ],
      "metadata": {
        "colab": {
          "base_uri": "https://localhost:8080/"
        },
        "id": "g5pkZrt6DKT2",
        "outputId": "fb0d51ce-0547-4b42-9bf7-13fcd6c75baa"
      },
      "execution_count": null,
      "outputs": [
        {
          "output_type": "execute_result",
          "data": {
            "text/plain": [
              "array([0, 2, 4, 6, 3, 5, 1])"
            ]
          },
          "metadata": {},
          "execution_count": 9
        }
      ]
    },
    {
      "cell_type": "code",
      "source": [
        "reshaped_images = np.zeros((images.shape[0], 48, 48,1))\n",
        "i = 0\n",
        "for image in images:\n",
        "  reshaped_images[i] = image.reshape((48,48,1))\n",
        "  i+=1"
      ],
      "metadata": {
        "id": "kmUWCQ9jDNO6"
      },
      "execution_count": null,
      "outputs": []
    },
    {
      "cell_type": "code",
      "source": [
        "reshaped_images.shape"
      ],
      "metadata": {
        "colab": {
          "base_uri": "https://localhost:8080/"
        },
        "id": "TbJtL3vzDRiT",
        "outputId": "5cb9e143-a325-4ed9-8744-bd8e764d768a"
      },
      "execution_count": null,
      "outputs": [
        {
          "output_type": "execute_result",
          "data": {
            "text/plain": [
              "(499, 48, 48, 1)"
            ]
          },
          "metadata": {},
          "execution_count": 11
        }
      ]
    },
    {
      "cell_type": "code",
      "source": [
        "norm_images = reshaped_images / 255.0"
      ],
      "metadata": {
        "id": "Vv-_TzLvDT0S"
      },
      "execution_count": null,
      "outputs": []
    },
    {
      "cell_type": "code",
      "source": [
        "plt.imshow(norm_images[0].reshape((48,48)), cmap=\"gray\")\n",
        "plt.show()"
      ],
      "metadata": {
        "colab": {
          "base_uri": "https://localhost:8080/",
          "height": 431
        },
        "id": "Eq6JhhwdDWGX",
        "outputId": "7f0c11aa-e7e0-4cf4-848d-ac160668e282"
      },
      "execution_count": null,
      "outputs": [
        {
          "output_type": "display_data",
          "data": {
            "text/plain": [
              "<Figure size 640x480 with 1 Axes>"
            ],
            "image/png": "[encoded data removed]"
          },
          "metadata": {}
        }
      ]
    },
    {
      "cell_type": "code",
      "source": [
        "from tensorflow.keras.utils import to_categorical"
      ],
      "metadata": {
        "id": "8y0SwCmIDYqD"
      },
      "execution_count": null,
      "outputs": []
    },
    {
      "cell_type": "code",
      "source": [
        "new_labels = to_categorical(labels, num_classes=7)\n",
        "new_labels.shape"
      ],
      "metadata": {
        "colab": {
          "base_uri": "https://localhost:8080/"
        },
        "id": "Wrr_UDPhDc4h",
        "outputId": "2f593ae4-e444-48b7-9814-db0671771c19"
      },
      "execution_count": null,
      "outputs": [
        {
          "output_type": "execute_result",
          "data": {
            "text/plain": [
              "(499, 7)"
            ]
          },
          "metadata": {},
          "execution_count": 15
        }
      ]
    },
    {
      "cell_type": "code",
      "source": [
        "reshaped_images.shape"
      ],
      "metadata": {
        "colab": {
          "base_uri": "https://localhost:8080/"
        },
        "id": "BAAUFZftDgRe",
        "outputId": "54355bf4-510e-461b-c607-1a359bb54cd1"
      },
      "execution_count": null,
      "outputs": [
        {
          "output_type": "execute_result",
          "data": {
            "text/plain": [
              "(499, 48, 48, 1)"
            ]
          },
          "metadata": {},
          "execution_count": 16
        }
      ]
    },
    {
      "cell_type": "code",
      "source": [
        "from sklearn.model_selection import train_test_split\n",
        "X_train, X_test, y_train, y_test = train_test_split(norm_images, new_labels, test_size=0.2, random_state = 42)\n",
        "X_train.shape, X_test.shape, y_train.shape, y_test.shape"
      ],
      "metadata": {
        "colab": {
          "base_uri": "https://localhost:8080/"
        },
        "id": "KIVVtHy2Djlo",
        "outputId": "ee883334-3750-4ae5-af14-247bd92fdc02"
      },
      "execution_count": null,
      "outputs": [
        {
          "output_type": "execute_result",
          "data": {
            "text/plain": [
              "((399, 48, 48, 1), (100, 48, 48, 1), (399, 7), (100, 7))"
            ]
          },
          "metadata": {},
          "execution_count": 17
        }
      ]
    },
    {
      "cell_type": "code",
      "source": [
        "import tensorflow as tf\n",
        "tf.__version__"
      ],
      "metadata": {
        "colab": {
          "base_uri": "https://localhost:8080/",
          "height": 35
        },
        "id": "H8bfytkrDokn",
        "outputId": "45c6f212-238d-4132-ce25-30fe58c2a736"
      },
      "execution_count": null,
      "outputs": [
        {
          "output_type": "execute_result",
          "data": {
            "text/plain": [
              "'2.12.0'"
            ],
            "application/vnd.google.colaboratory.intrinsic+json": {
              "type": "string"
            }
          },
          "metadata": {},
          "execution_count": 18
        }
      ]
    },
    {
      "cell_type": "code",
      "source": [
        "from tensorflow.keras.layers import Dense, Dropout, Flatten, Conv2D, BatchNormalization, Activation, MaxPooling2D\n",
        "from tensorflow.keras.models import Model, Sequential\n",
        "from tensorflow.keras.optimizers import Adam\n",
        "from tensorflow.keras.callbacks import ModelCheckpoint, ReduceLROnPlateau"
      ],
      "metadata": {
        "id": "tJaVJbUHDsi_"
      },
      "execution_count": null,
      "outputs": []
    },
    {
      "cell_type": "code",
      "source": [
        "model = Sequential()\n",
        "\n",
        "model.add(Conv2D(64, (3,3), padding = \"same\", input_shape = (48,48,1)))\n",
        "model.add(BatchNormalization())\n",
        "model.add(Activation('relu'))\n",
        "model.add(MaxPooling2D(pool_size = (2,2)))\n",
        "model.add(Dropout(0.25))\n",
        "\n",
        "model.add(Conv2D(128, (5,5), padding = \"same\"))\n",
        "model.add(BatchNormalization())\n",
        "model.add(Activation('relu'))\n",
        "model.add(MaxPooling2D(pool_size = (2,2)))\n",
        "model.add(Dropout(0.25))\n",
        "\n",
        "model.add(Conv2D(512, (3,3), padding = \"same\"))\n",
        "model.add(BatchNormalization())\n",
        "model.add(Activation('relu'))\n",
        "model.add(MaxPooling2D(pool_size = (2,2)))\n",
        "model.add(Dropout(0.25))\n",
        "\n",
        "model.add(Conv2D(512, (3,3), padding = \"same\"))\n",
        "model.add(BatchNormalization())\n",
        "model.add(Activation('relu'))\n",
        "model.add(MaxPooling2D(pool_size = (2,2)))\n",
        "model.add(Dropout(0.25))\n",
        "\n",
        "model.add(Flatten())\n",
        "\n",
        "model.add(Dense(256))\n",
        "model.add(BatchNormalization())\n",
        "model.add(Activation('relu'))\n",
        "model.add(Dropout(0.25))\n",
        "\n",
        "model.add(Dense(512))\n",
        "model.add(BatchNormalization())\n",
        "model.add(Activation('relu'))\n",
        "model.add(Dropout(0.25))\n",
        "\n",
        "model.add(Dense(7, activation = \"softmax\"))"
      ],
      "metadata": {
        "id": "dxHVK0aVDvjO"
      },
      "execution_count": null,
      "outputs": []
    },
    {
      "cell_type": "code",
      "source": [
        "opt = Adam(lr = 0.0005)\n",
        "\n",
        "model.compile(optimizer = opt, loss = \"categorical_crossentropy\", metrics = ['accuracy'])"
      ],
      "metadata": {
        "colab": {
          "base_uri": "https://localhost:8080/"
        },
        "id": "NRJOQkm0EHLS",
        "outputId": "35520a1e-b095-4ccf-b76d-6060fdcd4e0d"
      },
      "execution_count": null,
      "outputs": [
        {
          "output_type": "stream",
          "name": "stderr",
          "text": [
            "WARNING:absl:`lr` is deprecated in Keras optimizer, please use `learning_rate` or use the legacy optimizer, e.g.,tf.keras.optimizers.legacy.Adam.\n"
          ]
        }
      ]
    },
    {
      "cell_type": "code",
      "source": [
        "model.summary()"
      ],
      "metadata": {
        "colab": {
          "base_uri": "https://localhost:8080/"
        },
        "id": "NOW-8sCEEKfD",
        "outputId": "1e3a29ad-5265-4d0e-b007-9310dbdc04c1"
      },
      "execution_count": null,
      "outputs": [
        {
          "output_type": "stream",
          "name": "stdout",
          "text": [
            "Model: \"sequential\"\n",
            "_________________________________________________________________\n",
            " Layer (type)                Output Shape              Param #   \n",
            "=================================================================\n",
            " conv2d (Conv2D)             (None, 48, 48, 64)        640       \n",
            "                                                                 \n",
            " batch_normalization (BatchN  (None, 48, 48, 64)       256       \n",
            " ormalization)                                                   \n",
            "                                                                 \n",
            " activation (Activation)     (None, 48, 48, 64)        0         \n",
            "                                                                 \n",
            " max_pooling2d (MaxPooling2D  (None, 24, 24, 64)       0         \n",
            " )                                                               \n",
            "                                                                 \n",
            " dropout (Dropout)           (None, 24, 24, 64)        0         \n",
            "                                                                 \n",
            " conv2d_1 (Conv2D)           (None, 24, 24, 128)       204928    \n",
            "                                                                 \n",
            " batch_normalization_1 (Batc  (None, 24, 24, 128)      512       \n",
            " hNormalization)                                                 \n",
            "                                                                 \n",
            " activation_1 (Activation)   (None, 24, 24, 128)       0         \n",
            "                                                                 \n",
            " max_pooling2d_1 (MaxPooling  (None, 12, 12, 128)      0         \n",
            " 2D)                                                             \n",
            "                                                                 \n",
            " dropout_1 (Dropout)         (None, 12, 12, 128)       0         \n",
            "                                                                 \n",
            " conv2d_2 (Conv2D)           (None, 12, 12, 512)       590336    \n",
            "                                                                 \n",
            " batch_normalization_2 (Batc  (None, 12, 12, 512)      2048      \n",
            " hNormalization)                                                 \n",
            "                                                                 \n",
            " activation_2 (Activation)   (None, 12, 12, 512)       0         \n",
            "                                                                 \n",
            " max_pooling2d_2 (MaxPooling  (None, 6, 6, 512)        0         \n",
            " 2D)                                                             \n",
            "                                                                 \n",
            " dropout_2 (Dropout)         (None, 6, 6, 512)         0         \n",
            "                                                                 \n",
            " conv2d_3 (Conv2D)           (None, 6, 6, 512)         2359808   \n",
            "                                                                 \n",
            " batch_normalization_3 (Batc  (None, 6, 6, 512)        2048      \n",
            " hNormalization)                                                 \n",
            "                                                                 \n",
            " activation_3 (Activation)   (None, 6, 6, 512)         0         \n",
            "                                                                 \n",
            " max_pooling2d_3 (MaxPooling  (None, 3, 3, 512)        0         \n",
            " 2D)                                                             \n",
            "                                                                 \n",
            " dropout_3 (Dropout)         (None, 3, 3, 512)         0         \n",
            "                                                                 \n",
            " flatten (Flatten)           (None, 4608)              0         \n",
            "                                                                 \n",
            " dense (Dense)               (None, 256)               1179904   \n",
            "                                                                 \n",
            " batch_normalization_4 (Batc  (None, 256)              1024      \n",
            " hNormalization)                                                 \n",
            "                                                                 \n",
            " activation_4 (Activation)   (None, 256)               0         \n",
            "                                                                 \n",
            " dropout_4 (Dropout)         (None, 256)               0         \n",
            "                                                                 \n",
            " dense_1 (Dense)             (None, 512)               131584    \n",
            "                                                                 \n",
            " batch_normalization_5 (Batc  (None, 512)              2048      \n",
            " hNormalization)                                                 \n",
            "                                                                 \n",
            " activation_5 (Activation)   (None, 512)               0         \n",
            "                                                                 \n",
            " dropout_5 (Dropout)         (None, 512)               0         \n",
            "                                                                 \n",
            " dense_2 (Dense)             (None, 7)                 3591      \n",
            "                                                                 \n",
            "=================================================================\n",
            "Total params: 4,478,727\n",
            "Trainable params: 4,474,759\n",
            "Non-trainable params: 3,968\n",
            "_________________________________________________________________\n"
          ]
        }
      ]
    },
    {
      "cell_type": "code",
      "source": [
        "epochs = 50\n",
        "\n",
        "reduce_lr = ReduceLROnPlateau(monitor='val_loss', factor=0.1,\n",
        "                              patience=2, min_lr=0.00001, mode='auto')\n",
        "\n",
        "checkpoint = ModelCheckpoint(\"fer_model.h5\", monitor='val_loss',\n",
        "                             mode='max', verbose=1)\n",
        "\n",
        "callbacks = [checkpoint, reduce_lr]\n",
        "\n",
        "history = model.fit(X_train, y_train, validation_data=(X_test, y_test), callbacks=callbacks, epochs = epochs)"
      ],
      "metadata": {
        "colab": {
          "base_uri": "https://localhost:8080/"
        },
        "id": "WyciH3Y_EN3_",
        "outputId": "730cdef3-9376-4393-a994-d77a34261d36"
      },
      "execution_count": null,
      "outputs": [
        {
          "output_type": "stream",
          "name": "stdout",
          "text": [
            "Epoch 1/50\n",
            "13/13 [==============================] - ETA: 0s - loss: 2.2367 - accuracy: 0.1704\n",
            "Epoch 1: saving model to fer_model.h5\n",
            "13/13 [==============================] - 26s 2s/step - loss: 2.2367 - accuracy: 0.1704 - val_loss: 1.9041 - val_accuracy: 0.1900 - lr: 0.0010\n",
            "Epoch 2/50\n",
            "13/13 [==============================] - ETA: 0s - loss: 2.0717 - accuracy: 0.2155\n",
            "Epoch 2: saving model to fer_model.h5\n",
            "13/13 [==============================] - 24s 2s/step - loss: 2.0717 - accuracy: 0.2155 - val_loss: 1.8465 - val_accuracy: 0.2200 - lr: 0.0010\n",
            "Epoch 3/50\n",
            "13/13 [==============================] - ETA: 0s - loss: 1.7990 - accuracy: 0.2982\n",
            "Epoch 3: saving model to fer_model.h5\n",
            "13/13 [==============================] - 27s 2s/step - loss: 1.7990 - accuracy: 0.2982 - val_loss: 1.9405 - val_accuracy: 0.1900 - lr: 0.0010\n",
            "Epoch 4/50\n",
            "13/13 [==============================] - ETA: 0s - loss: 1.7774 - accuracy: 0.3358\n",
            "Epoch 4: saving model to fer_model.h5\n",
            "13/13 [==============================] - 25s 2s/step - loss: 1.7774 - accuracy: 0.3358 - val_loss: 2.0718 - val_accuracy: 0.1500 - lr: 0.0010\n",
            "Epoch 5/50\n",
            "13/13 [==============================] - ETA: 0s - loss: 1.6428 - accuracy: 0.3684\n",
            "Epoch 5: saving model to fer_model.h5\n",
            "13/13 [==============================] - 26s 2s/step - loss: 1.6428 - accuracy: 0.3684 - val_loss: 2.0962 - val_accuracy: 0.1700 - lr: 1.0000e-04\n",
            "Epoch 6/50\n",
            "13/13 [==============================] - ETA: 0s - loss: 1.5883 - accuracy: 0.3784\n",
            "Epoch 6: saving model to fer_model.h5\n",
            "13/13 [==============================] - 26s 2s/step - loss: 1.5883 - accuracy: 0.3784 - val_loss: 2.1182 - val_accuracy: 0.1600 - lr: 1.0000e-04\n",
            "Epoch 7/50\n",
            "13/13 [==============================] - ETA: 0s - loss: 1.6099 - accuracy: 0.3784\n",
            "Epoch 7: saving model to fer_model.h5\n",
            "13/13 [==============================] - 30s 2s/step - loss: 1.6099 - accuracy: 0.3784 - val_loss: 2.1321 - val_accuracy: 0.1900 - lr: 1.0000e-05\n",
            "Epoch 8/50\n",
            "13/13 [==============================] - ETA: 0s - loss: 1.6211 - accuracy: 0.3409\n",
            "Epoch 8: saving model to fer_model.h5\n",
            "13/13 [==============================] - 23s 2s/step - loss: 1.6211 - accuracy: 0.3409 - val_loss: 2.1471 - val_accuracy: 0.1800 - lr: 1.0000e-05\n",
            "Epoch 9/50\n",
            "13/13 [==============================] - ETA: 0s - loss: 1.5584 - accuracy: 0.3885\n",
            "Epoch 9: saving model to fer_model.h5\n",
            "13/13 [==============================] - 24s 2s/step - loss: 1.5584 - accuracy: 0.3885 - val_loss: 2.1596 - val_accuracy: 0.1800 - lr: 1.0000e-05\n",
            "Epoch 10/50\n",
            "13/13 [==============================] - ETA: 0s - loss: 1.5524 - accuracy: 0.3759\n",
            "Epoch 10: saving model to fer_model.h5\n",
            "13/13 [==============================] - 22s 2s/step - loss: 1.5524 - accuracy: 0.3759 - val_loss: 2.1739 - val_accuracy: 0.1800 - lr: 1.0000e-05\n",
            "Epoch 11/50\n",
            "13/13 [==============================] - ETA: 0s - loss: 1.5608 - accuracy: 0.4010\n",
            "Epoch 11: saving model to fer_model.h5\n",
            "13/13 [==============================] - 23s 2s/step - loss: 1.5608 - accuracy: 0.4010 - val_loss: 2.1873 - val_accuracy: 0.1800 - lr: 1.0000e-05\n",
            "Epoch 12/50\n",
            "13/13 [==============================] - ETA: 0s - loss: 1.6274 - accuracy: 0.3910\n",
            "Epoch 12: saving model to fer_model.h5\n",
            "13/13 [==============================] - 22s 2s/step - loss: 1.6274 - accuracy: 0.3910 - val_loss: 2.1959 - val_accuracy: 0.1800 - lr: 1.0000e-05\n",
            "Epoch 13/50\n",
            "13/13 [==============================] - ETA: 0s - loss: 1.6056 - accuracy: 0.3509\n",
            "Epoch 13: saving model to fer_model.h5\n",
            "13/13 [==============================] - 22s 2s/step - loss: 1.6056 - accuracy: 0.3509 - val_loss: 2.2016 - val_accuracy: 0.1800 - lr: 1.0000e-05\n",
            "Epoch 14/50\n",
            "13/13 [==============================] - ETA: 0s - loss: 1.6179 - accuracy: 0.3659\n",
            "Epoch 14: saving model to fer_model.h5\n",
            "13/13 [==============================] - 23s 2s/step - loss: 1.6179 - accuracy: 0.3659 - val_loss: 2.2047 - val_accuracy: 0.1800 - lr: 1.0000e-05\n",
            "Epoch 15/50\n",
            "13/13 [==============================] - ETA: 0s - loss: 1.6041 - accuracy: 0.3484\n",
            "Epoch 15: saving model to fer_model.h5\n",
            "13/13 [==============================] - 22s 2s/step - loss: 1.6041 - accuracy: 0.3484 - val_loss: 2.2124 - val_accuracy: 0.1900 - lr: 1.0000e-05\n",
            "Epoch 16/50\n",
            "13/13 [==============================] - ETA: 0s - loss: 1.5770 - accuracy: 0.3709\n",
            "Epoch 16: saving model to fer_model.h5\n",
            "13/13 [==============================] - 21s 2s/step - loss: 1.5770 - accuracy: 0.3709 - val_loss: 2.2131 - val_accuracy: 0.1900 - lr: 1.0000e-05\n",
            "Epoch 17/50\n",
            "13/13 [==============================] - ETA: 0s - loss: 1.5413 - accuracy: 0.4236\n",
            "Epoch 17: saving model to fer_model.h5\n",
            "13/13 [==============================] - 22s 2s/step - loss: 1.5413 - accuracy: 0.4236 - val_loss: 2.2221 - val_accuracy: 0.1900 - lr: 1.0000e-05\n",
            "Epoch 18/50\n",
            "13/13 [==============================] - ETA: 0s - loss: 1.4539 - accuracy: 0.3960\n",
            "Epoch 18: saving model to fer_model.h5\n",
            "13/13 [==============================] - 22s 2s/step - loss: 1.4539 - accuracy: 0.3960 - val_loss: 2.2290 - val_accuracy: 0.1900 - lr: 1.0000e-05\n",
            "Epoch 19/50\n",
            "13/13 [==============================] - ETA: 0s - loss: 1.5092 - accuracy: 0.4060\n",
            "Epoch 19: saving model to fer_model.h5\n",
            "13/13 [==============================] - 21s 2s/step - loss: 1.5092 - accuracy: 0.4060 - val_loss: 2.2363 - val_accuracy: 0.1900 - lr: 1.0000e-05\n",
            "Epoch 20/50\n",
            "13/13 [==============================] - ETA: 0s - loss: 1.5359 - accuracy: 0.3910\n",
            "Epoch 20: saving model to fer_model.h5\n",
            "13/13 [==============================] - 22s 2s/step - loss: 1.5359 - accuracy: 0.3910 - val_loss: 2.2397 - val_accuracy: 0.1900 - lr: 1.0000e-05\n",
            "Epoch 21/50\n",
            "13/13 [==============================] - ETA: 0s - loss: 1.5736 - accuracy: 0.3759\n",
            "Epoch 21: saving model to fer_model.h5\n",
            "13/13 [==============================] - 21s 2s/step - loss: 1.5736 - accuracy: 0.3759 - val_loss: 2.2384 - val_accuracy: 0.1900 - lr: 1.0000e-05\n",
            "Epoch 22/50\n",
            "13/13 [==============================] - ETA: 0s - loss: 1.5169 - accuracy: 0.3985\n",
            "Epoch 22: saving model to fer_model.h5\n",
            "13/13 [==============================] - 21s 2s/step - loss: 1.5169 - accuracy: 0.3985 - val_loss: 2.2372 - val_accuracy: 0.1900 - lr: 1.0000e-05\n",
            "Epoch 23/50\n",
            "13/13 [==============================] - ETA: 0s - loss: 1.4845 - accuracy: 0.4160\n",
            "Epoch 23: saving model to fer_model.h5\n",
            "13/13 [==============================] - 21s 2s/step - loss: 1.4845 - accuracy: 0.4160 - val_loss: 2.2365 - val_accuracy: 0.1900 - lr: 1.0000e-05\n",
            "Epoch 24/50\n",
            "13/13 [==============================] - ETA: 0s - loss: 1.4838 - accuracy: 0.4085\n",
            "Epoch 24: saving model to fer_model.h5\n",
            "13/13 [==============================] - 22s 2s/step - loss: 1.4838 - accuracy: 0.4085 - val_loss: 2.2337 - val_accuracy: 0.1900 - lr: 1.0000e-05\n",
            "Epoch 25/50\n",
            "13/13 [==============================] - ETA: 0s - loss: 1.5252 - accuracy: 0.3734\n",
            "Epoch 25: saving model to fer_model.h5\n",
            "13/13 [==============================] - 21s 2s/step - loss: 1.5252 - accuracy: 0.3734 - val_loss: 2.2258 - val_accuracy: 0.1800 - lr: 1.0000e-05\n",
            "Epoch 26/50\n",
            "13/13 [==============================] - ETA: 0s - loss: 1.5293 - accuracy: 0.3960\n",
            "Epoch 26: saving model to fer_model.h5\n",
            "13/13 [==============================] - 23s 2s/step - loss: 1.5293 - accuracy: 0.3960 - val_loss: 2.2229 - val_accuracy: 0.1800 - lr: 1.0000e-05\n",
            "Epoch 27/50\n",
            "13/13 [==============================] - ETA: 0s - loss: 1.5745 - accuracy: 0.3810\n",
            "Epoch 27: saving model to fer_model.h5\n",
            "13/13 [==============================] - 22s 2s/step - loss: 1.5745 - accuracy: 0.3810 - val_loss: 2.2174 - val_accuracy: 0.1800 - lr: 1.0000e-05\n",
            "Epoch 28/50\n",
            "13/13 [==============================] - ETA: 0s - loss: 1.5200 - accuracy: 0.3985\n",
            "Epoch 28: saving model to fer_model.h5\n",
            "13/13 [==============================] - 21s 2s/step - loss: 1.5200 - accuracy: 0.3985 - val_loss: 2.2150 - val_accuracy: 0.1800 - lr: 1.0000e-05\n",
            "Epoch 29/50\n",
            "13/13 [==============================] - ETA: 0s - loss: 1.5032 - accuracy: 0.3885\n",
            "Epoch 29: saving model to fer_model.h5\n",
            "13/13 [==============================] - 24s 2s/step - loss: 1.5032 - accuracy: 0.3885 - val_loss: 2.2150 - val_accuracy: 0.1800 - lr: 1.0000e-05\n",
            "Epoch 30/50\n",
            "13/13 [==============================] - ETA: 0s - loss: 1.4660 - accuracy: 0.4436\n",
            "Epoch 30: saving model to fer_model.h5\n",
            "13/13 [==============================] - 21s 2s/step - loss: 1.4660 - accuracy: 0.4436 - val_loss: 2.2063 - val_accuracy: 0.1800 - lr: 1.0000e-05\n",
            "Epoch 31/50\n",
            "13/13 [==============================] - ETA: 0s - loss: 1.5090 - accuracy: 0.4286\n",
            "Epoch 31: saving model to fer_model.h5\n",
            "13/13 [==============================] - 20s 2s/step - loss: 1.5090 - accuracy: 0.4286 - val_loss: 2.2013 - val_accuracy: 0.1700 - lr: 1.0000e-05\n",
            "Epoch 32/50\n",
            "13/13 [==============================] - ETA: 0s - loss: 1.4738 - accuracy: 0.4085\n",
            "Epoch 32: saving model to fer_model.h5\n",
            "13/13 [==============================] - 23s 2s/step - loss: 1.4738 - accuracy: 0.4085 - val_loss: 2.2013 - val_accuracy: 0.1700 - lr: 1.0000e-05\n",
            "Epoch 33/50\n",
            "13/13 [==============================] - ETA: 0s - loss: 1.4120 - accuracy: 0.4662\n",
            "Epoch 33: saving model to fer_model.h5\n",
            "13/13 [==============================] - 21s 2s/step - loss: 1.4120 - accuracy: 0.4662 - val_loss: 2.1984 - val_accuracy: 0.1700 - lr: 1.0000e-05\n",
            "Epoch 34/50\n",
            "13/13 [==============================] - ETA: 0s - loss: 1.4733 - accuracy: 0.4110\n",
            "Epoch 34: saving model to fer_model.h5\n",
            "13/13 [==============================] - 20s 2s/step - loss: 1.4733 - accuracy: 0.4110 - val_loss: 2.1935 - val_accuracy: 0.1700 - lr: 1.0000e-05\n",
            "Epoch 35/50\n",
            "13/13 [==============================] - ETA: 0s - loss: 1.4905 - accuracy: 0.4160\n",
            "Epoch 35: saving model to fer_model.h5\n",
            "13/13 [==============================] - 22s 2s/step - loss: 1.4905 - accuracy: 0.4160 - val_loss: 2.1829 - val_accuracy: 0.1700 - lr: 1.0000e-05\n",
            "Epoch 36/50\n",
            "13/13 [==============================] - ETA: 0s - loss: 1.4435 - accuracy: 0.4511\n",
            "Epoch 36: saving model to fer_model.h5\n",
            "13/13 [==============================] - 22s 2s/step - loss: 1.4435 - accuracy: 0.4511 - val_loss: 2.1776 - val_accuracy: 0.1800 - lr: 1.0000e-05\n",
            "Epoch 37/50\n",
            "13/13 [==============================] - ETA: 0s - loss: 1.4670 - accuracy: 0.4261\n",
            "Epoch 37: saving model to fer_model.h5\n",
            "13/13 [==============================] - 21s 2s/step - loss: 1.4670 - accuracy: 0.4261 - val_loss: 2.1767 - val_accuracy: 0.1900 - lr: 1.0000e-05\n",
            "Epoch 38/50\n",
            "13/13 [==============================] - ETA: 0s - loss: 1.4636 - accuracy: 0.4236\n",
            "Epoch 38: saving model to fer_model.h5\n",
            "13/13 [==============================] - 22s 2s/step - loss: 1.4636 - accuracy: 0.4236 - val_loss: 2.1700 - val_accuracy: 0.1900 - lr: 1.0000e-05\n",
            "Epoch 39/50\n",
            "13/13 [==============================] - ETA: 0s - loss: 1.4715 - accuracy: 0.4060\n",
            "Epoch 39: saving model to fer_model.h5\n",
            "13/13 [==============================] - 23s 2s/step - loss: 1.4715 - accuracy: 0.4060 - val_loss: 2.1597 - val_accuracy: 0.1900 - lr: 1.0000e-05\n",
            "Epoch 40/50\n",
            "13/13 [==============================] - ETA: 0s - loss: 1.5015 - accuracy: 0.4185\n",
            "Epoch 40: saving model to fer_model.h5\n",
            "13/13 [==============================] - 21s 2s/step - loss: 1.5015 - accuracy: 0.4185 - val_loss: 2.1523 - val_accuracy: 0.1900 - lr: 1.0000e-05\n",
            "Epoch 41/50\n",
            "13/13 [==============================] - ETA: 0s - loss: 1.5112 - accuracy: 0.4185\n",
            "Epoch 41: saving model to fer_model.h5\n",
            "13/13 [==============================] - 21s 2s/step - loss: 1.5112 - accuracy: 0.4185 - val_loss: 2.1487 - val_accuracy: 0.2000 - lr: 1.0000e-05\n",
            "Epoch 42/50\n",
            "13/13 [==============================] - ETA: 0s - loss: 1.4435 - accuracy: 0.4561\n",
            "Epoch 42: saving model to fer_model.h5\n",
            "13/13 [==============================] - 21s 2s/step - loss: 1.4435 - accuracy: 0.4561 - val_loss: 2.1387 - val_accuracy: 0.2200 - lr: 1.0000e-05\n",
            "Epoch 43/50\n",
            "13/13 [==============================] - ETA: 0s - loss: 1.4695 - accuracy: 0.3985\n",
            "Epoch 43: saving model to fer_model.h5\n",
            "13/13 [==============================] - 20s 2s/step - loss: 1.4695 - accuracy: 0.3985 - val_loss: 2.1327 - val_accuracy: 0.2300 - lr: 1.0000e-05\n",
            "Epoch 44/50\n",
            "13/13 [==============================] - ETA: 0s - loss: 1.4874 - accuracy: 0.4211\n",
            "Epoch 44: saving model to fer_model.h5\n",
            "13/13 [==============================] - 22s 2s/step - loss: 1.4874 - accuracy: 0.4211 - val_loss: 2.1266 - val_accuracy: 0.2300 - lr: 1.0000e-05\n",
            "Epoch 45/50\n",
            "13/13 [==============================] - ETA: 0s - loss: 1.4243 - accuracy: 0.4461\n",
            "Epoch 45: saving model to fer_model.h5\n",
            "13/13 [==============================] - 22s 2s/step - loss: 1.4243 - accuracy: 0.4461 - val_loss: 2.1160 - val_accuracy: 0.2200 - lr: 1.0000e-05\n",
            "Epoch 46/50\n",
            "13/13 [==============================] - ETA: 0s - loss: 1.4760 - accuracy: 0.4060\n",
            "Epoch 46: saving model to fer_model.h5\n",
            "13/13 [==============================] - 21s 2s/step - loss: 1.4760 - accuracy: 0.4060 - val_loss: 2.1077 - val_accuracy: 0.2200 - lr: 1.0000e-05\n",
            "Epoch 47/50\n",
            "13/13 [==============================] - ETA: 0s - loss: 1.3987 - accuracy: 0.4411\n",
            "Epoch 47: saving model to fer_model.h5\n",
            "13/13 [==============================] - 22s 2s/step - loss: 1.3987 - accuracy: 0.4411 - val_loss: 2.1040 - val_accuracy: 0.2100 - lr: 1.0000e-05\n",
            "Epoch 48/50\n",
            "13/13 [==============================] - ETA: 0s - loss: 1.4479 - accuracy: 0.4486\n",
            "Epoch 48: saving model to fer_model.h5\n",
            "13/13 [==============================] - 21s 2s/step - loss: 1.4479 - accuracy: 0.4486 - val_loss: 2.0959 - val_accuracy: 0.2100 - lr: 1.0000e-05\n",
            "Epoch 49/50\n",
            "13/13 [==============================] - ETA: 0s - loss: 1.4710 - accuracy: 0.4135\n",
            "Epoch 49: saving model to fer_model.h5\n",
            "13/13 [==============================] - 20s 2s/step - loss: 1.4710 - accuracy: 0.4135 - val_loss: 2.0873 - val_accuracy: 0.2100 - lr: 1.0000e-05\n",
            "Epoch 50/50\n",
            "13/13 [==============================] - ETA: 0s - loss: 1.4078 - accuracy: 0.4386\n",
            "Epoch 50: saving model to fer_model.h5\n",
            "13/13 [==============================] - 22s 2s/step - loss: 1.4078 - accuracy: 0.4386 - val_loss: 2.0804 - val_accuracy: 0.2100 - lr: 1.0000e-05\n"
          ]
        }
      ]
    },
    {
      "cell_type": "code",
      "source": [
        "emotions = ('angry', 'disgust', 'fear', 'happy', 'sad', 'surprise', 'neutral')"
      ],
      "metadata": {
        "id": "1a1h3cq9EWdy"
      },
      "execution_count": null,
      "outputs": []
    },
    {
      "cell_type": "code",
      "source": [
        "import PIL\n",
        "from PIL import Image"
      ],
      "metadata": {
        "id": "REeO-kn2EipX"
      },
      "execution_count": null,
      "outputs": []
    },
    {
      "cell_type": "code",
      "source": [
        "import cv2"
      ],
      "metadata": {
        "id": "aT1fBqC7EiyG"
      },
      "execution_count": null,
      "outputs": []
    },
    {
      "cell_type": "code",
      "source": [
        "img = cv2.imread(\"/content/All_Emotions_Detection.jpg\")"
      ],
      "metadata": {
        "id": "H-kjv1UkEm43"
      },
      "execution_count": null,
      "outputs": []
    },
    {
      "cell_type": "code",
      "source": [
        "img = cv2.cvtColor(img, cv2.COLOR_BGR2GRAY)"
      ],
      "metadata": {
        "id": "Y6FkwA8-Em-5"
      },
      "execution_count": null,
      "outputs": []
    },
    {
      "cell_type": "code",
      "source": [
        "img.shape"
      ],
      "metadata": {
        "colab": {
          "base_uri": "https://localhost:8080/"
        },
        "id": "JunKv6uPEnCV",
        "outputId": "70eef192-d950-4943-d245-61920ee9a25d"
      },
      "execution_count": null,
      "outputs": [
        {
          "output_type": "execute_result",
          "data": {
            "text/plain": [
              "(700, 1000)"
            ]
          },
          "metadata": {},
          "execution_count": 29
        }
      ]
    },
    {
      "cell_type": "code",
      "source": [
        "img = cv2.resize(img, (48,48))"
      ],
      "metadata": {
        "id": "jQTlGnBGEnFc"
      },
      "execution_count": null,
      "outputs": []
    },
    {
      "cell_type": "code",
      "source": [
        "plt.imshow(img, cmap='gray')"
      ],
      "metadata": {
        "colab": {
          "base_uri": "https://localhost:8080/",
          "height": 448
        },
        "id": "kW4opKYiEnK4",
        "outputId": "af5f6bf2-892f-48d7-f1a8-df3d275ff264"
      },
      "execution_count": null,
      "outputs": [
        {
          "output_type": "execute_result",
          "data": {
            "text/plain": [
              "<matplotlib.image.AxesImage at 0x7c5561122980>"
            ]
          },
          "metadata": {},
          "execution_count": 31
        },
        {
          "output_type": "display_data",
          "data": {
            "text/plain": [
              "<Figure size 640x480 with 1 Axes>"
            ],
            "image/png": "[encoded data removed]"
          },
          "metadata": {}
        }
      ]
    },
    {
      "cell_type": "code",
      "source": [
        "np.argmax(model.predict(img.reshape((1,48,48,1))), axis=-1)[0]"
      ],
      "metadata": {
        "colab": {
          "base_uri": "https://localhost:8080/"
        },
        "id": "OXTyqd3xEnZA",
        "outputId": "e3a62ed3-4328-4058-9779-e93611e1594d"
      },
      "execution_count": null,
      "outputs": [
        {
          "output_type": "stream",
          "name": "stdout",
          "text": [
            "1/1 [==============================] - 0s 289ms/step\n"
          ]
        },
        {
          "output_type": "execute_result",
          "data": {
            "text/plain": [
              "6"
            ]
          },
          "metadata": {},
          "execution_count": 32
        }
      ]
    },
    {
      "cell_type": "code",
      "source": [
        "model.save(\"Fer_Model.h5\")"
      ],
      "metadata": {
        "id": "FyLeRd3TEnc7"
      },
      "execution_count": null,
      "outputs": []
    },
    {
      "cell_type": "code",
      "source": [
        "model.save_weights(\"model_weights.h5\")"
      ],
      "metadata": {
        "id": "LzE1fmd9FFTO"
      },
      "execution_count": null,
      "outputs": []
    },
    {
      "cell_type": "code",
      "source": [
        "model_json = model.to_json()\n",
        "with open(\"model.json\", \"w\") as json_file:\n",
        "    json_file.write(model_json)"
      ],
      "metadata": {
        "id": "UW2fvyt5FGPd"
      },
      "execution_count": null,
      "outputs": []
    },
    {
      "cell_type": "code",
      "source": [],
      "metadata": {
        "id": "wEcWM4wSJooF"
      },
      "execution_count": null,
      "outputs": []
    }
  ]
}