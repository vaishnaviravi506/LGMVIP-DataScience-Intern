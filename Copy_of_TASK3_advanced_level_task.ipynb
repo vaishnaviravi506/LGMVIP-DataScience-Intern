{
  "nbformat": 4,
  "nbformat_minor": 0,
  "metadata": {
    "colab": {
      "provenance": [],
      "authorship_tag": "ABX9TyOMe52jTkNwALFVJwaRoSCE",
      "include_colab_link": true
    },
    "kernelspec": {
      "name": "python3",
      "display_name": "Python 3"
    },
    "language_info": {
      "name": "python"
    }
  },
  "cells": [
    {
      "cell_type": "markdown",
      "metadata": {
        "id": "view-in-github",
        "colab_type": "text"
      },
      "source": [
        "<a href=\"https://colab.research.google.com/github/vaishnaviravi506/LGMVIP-DataScience-Intern/blob/ADVANCED-LEVEL-TASK/Copy_of_TASK3_advanced_level_task.ipynb\" target=\"_parent\"><img src=\"https://colab.research.google.com/assets/colab-badge.svg\" alt=\"Open In Colab\"/></a>"
      ]
    },
    {
      "cell_type": "markdown",
      "source": [
        "#**HANDWRITTEN  EQUATION  SOLVER  USING  CNN**"
      ],
      "metadata": {
        "id": "2LqZ6knuCUn9"
      }
    },
    {
      "cell_type": "markdown",
      "source": [
        "\n",
        "*Creating a complete handwritten equation solver using a Convolutional Neural Network (CNN) involves multiple steps, from data collection to deploying the model. In this example, I'll provide a simplified implementation for recognizing and solving simple arithmetic equations with two operands and the '+' operator. The goal is to demonstrate the core steps involved in building the solver.*"
      ],
      "metadata": {
        "id": "bWdzPritClWf"
      }
    },
    {
      "cell_type": "markdown",
      "source": [
        "**Let's outline the steps:**"
      ],
      "metadata": {
        "id": "m9AxTlNJCyu3"
      }
    },
    {
      "cell_type": "markdown",
      "source": [
        "##Step 1: Dataset Preparation\n",
        "\n",
        "For this example, we'll create a synthetic dataset of handwritten digit equations (e.g., \"2+3=5\"). Since creating a complete dataset manually is time-consuming, we'll generate synthetic data using libraries like OpenCV.\n",
        "\n",
        "##Step 2: Data Preprocessing\n",
        "\n",
        "Preprocess the images to prepare them for training the CNN. This step may involve resizing, converting to grayscale, and normalizing the pixel values.\n",
        "\n",
        "##Step 3: Data Labeling\n",
        "\n",
        "For each equation image in the dataset, manually label the corresponding equation string.\n",
        "##Step 4: Model Architecture\n",
        "\n",
        "Design a CNN architecture suitable for recognizing handwritten equations. We'll use a simple CNN for this example.\n",
        "\n",
        "##Step 5: Model Training\n",
        "\n",
        "Split the dataset into training and validation sets, then train the CNN model.\n",
        "\n",
        "#Step 6: Equation Parsing\n",
        "\n",
        "Parse the recognized equation string to extract the operands and the operator.\n",
        "\n",
        "##Step 7: Equation Solving\n",
        "\n",
        "Solve the equation using simple arithmetic operations.\n",
        "\n",
        "##Step 8: User Interface\n",
        "\n",
        "Create a user-friendly interface to interact with the handwritten equation solver."
      ],
      "metadata": {
        "id": "PJ1dx9NLDAaG"
      }
    },
    {
      "cell_type": "code",
      "source": [
        "import cv2\n",
        "import numpy as np\n",
        "\n",
        "def preprocess_image(image_path, target_size):\n",
        "    # Load the image using OpenCV\n",
        "    image = cv2.imread(image_path, cv2.IMREAD_GRAYSCALE)\n",
        "\n",
        "    # Resize the image to the target size\n",
        "    image = cv2.resize(image, target_size)\n",
        "\n",
        "    # Normalize pixel values to the range [0, 1]\n",
        "    image = image.astype('float32') / 255.0\n",
        "\n",
        "    return image\n",
        "\n",
        "# Example usage:\n",
        "image_path = '/content/0+9 (1).jpg'\n",
        "target_size = (28, 28)  # You can adjust the target size to fit your CNN architecture\n",
        "preprocessed_image = preprocess_image(image_path, target_size)\n"
      ],
      "metadata": {
        "id": "rQNSK1p39uje"
      },
      "execution_count": null,
      "outputs": []
    },
    {
      "cell_type": "code",
      "source": [
        "# Assuming you have a list of images and their corresponding equation strings\n",
        "equation_images = [...]  # List of preprocessed images\n",
        "equation_labels = [...]  # List of equation strings corresponding to the images"
      ],
      "metadata": {
        "id": "Ow0b1L_wBKWy"
      },
      "execution_count": null,
      "outputs": []
    },
    {
      "cell_type": "code",
      "source": [
        "import tensorflow as tf\n",
        "from tensorflow.keras.models import Sequential\n",
        "from tensorflow.keras.layers import Conv2D, MaxPooling2D, Flatten, Dense\n",
        "\n",
        "def build_cnn_model(input_shape, num_classes):\n",
        "    model = Sequential()\n",
        "\n",
        "    # Add convolutional layers\n",
        "    model.add(Conv2D(32, kernel_size=(3, 3), activation='relu', input_shape=input_shape))\n",
        "    model.add(MaxPooling2D(pool_size=(2, 2)))\n",
        "    model.add(Conv2D(64, kernel_size=(3, 3), activation='relu'))\n",
        "    model.add(MaxPooling2D(pool_size=(2, 2)))\n",
        "\n",
        "    # Flatten the output from the previous layer\n",
        "    model.add(Flatten())\n",
        "\n",
        "    # Add fully connected layers\n",
        "    model.add(Dense(128, activation='relu'))\n",
        "    model.add(Dense(num_classes, activation='softmax'))\n",
        "\n",
        "    return model\n",
        "\n",
        "# Example usage:\n",
        "input_shape = (28, 28, 1)  # Adjust the input shape based on your target_size from data preprocessing\n",
        "num_classes = 10  # For recognizing digits from 0 to 9\n",
        "model = build_cnn_model(input_shape, num_classes)\n"
      ],
      "metadata": {
        "id": "bVYsmZML-R1I"
      },
      "execution_count": null,
      "outputs": []
    },
    {
      "cell_type": "code",
      "source": [
        "import numpy as np\n",
        "import tensorflow as tf\n",
        "from tensorflow.keras.datasets import mnist\n",
        "from tensorflow.keras.models import Sequential\n",
        "from tensorflow.keras.layers import Dense, Flatten\n",
        "from tensorflow.keras.utils import to_categorical\n",
        "\n",
        "# Load the MNIST dataset\n",
        "(x_train, y_train), (x_test, y_test) = mnist.load_data()\n",
        "\n",
        "# Normalize the pixel values to be between 0 and 1\n",
        "x_train = x_train.astype('float32') / 255\n",
        "x_test = x_test.astype('float32') / 255\n",
        "\n",
        "# One-hot encode the labels\n",
        "y_train = to_categorical(y_train, 10)\n",
        "y_test = to_categorical(y_test, 10)\n",
        "\n",
        "# Create a simple CNN model\n",
        "model = Sequential()\n",
        "model.add(Flatten(input_shape=(28, 28)))\n",
        "model.add(Dense(128, activation='relu'))\n",
        "model.add(Dense(10, activation='softmax'))\n",
        "\n",
        "# Compile the model\n",
        "model.compile(loss='categorical_crossentropy', optimizer='adam', metrics=['accuracy'])\n",
        "\n",
        "# Train the model\n",
        "model.fit(x_train, y_train, epochs=5, batch_size=32, validation_split=0.2)\n",
        "\n",
        "# Evaluate the model on the test set\n",
        "test_loss, test_accuracy = model.evaluate(x_test, y_test)\n",
        "print(\"Test accuracy:\", test_accuracy)\n",
        "\n",
        "# Recognize handwritten digits\n",
        "def recognize_digit(image):\n",
        "    # Preprocess the image (resize and normalize)\n",
        "    image = image.astype('float32') / 255\n",
        "    image = np.expand_dims(image, axis=0)\n",
        "\n",
        "    # Use the model to predict the digit\n",
        "    prediction = model.predict(image)\n",
        "    digit = np.argmax(prediction)\n",
        "\n",
        "    return digit\n",
        "\n",
        "# Example usage:\n",
        "# Replace `your_handwritten_image` with the path to your handwritten image or draw your image using OpenCV or other libraries\n",
        "# image = cv2.imread('your_handwritten_image', cv2.IMREAD_GRAYSCALE)\n",
        "# digit = recognize_digit(image)\n",
        "# print(\"Recognized digit:\", digit)\n"
      ],
      "metadata": {
        "colab": {
          "base_uri": "https://localhost:8080/"
        },
        "id": "s_tB0hEPBnam",
        "outputId": "8cbc3889-fb23-4927-8b43-3bf68a7e7a22"
      },
      "execution_count": null,
      "outputs": [
        {
          "output_type": "stream",
          "name": "stdout",
          "text": [
            "Epoch 1/5\n",
            "1500/1500 [==============================] - 5s 3ms/step - loss: 0.2885 - accuracy: 0.9171 - val_loss: 0.1598 - val_accuracy: 0.9554\n",
            "Epoch 2/5\n",
            "1500/1500 [==============================] - 4s 3ms/step - loss: 0.1290 - accuracy: 0.9622 - val_loss: 0.1266 - val_accuracy: 0.9622\n",
            "Epoch 3/5\n",
            "1500/1500 [==============================] - 4s 2ms/step - loss: 0.0888 - accuracy: 0.9736 - val_loss: 0.1043 - val_accuracy: 0.9693\n",
            "Epoch 4/5\n",
            "1500/1500 [==============================] - 4s 3ms/step - loss: 0.0651 - accuracy: 0.9806 - val_loss: 0.0908 - val_accuracy: 0.9743\n",
            "Epoch 5/5\n",
            "1500/1500 [==============================] - 4s 2ms/step - loss: 0.0508 - accuracy: 0.9842 - val_loss: 0.0926 - val_accuracy: 0.9734\n",
            "313/313 [==============================] - 0s 1ms/step - loss: 0.0786 - accuracy: 0.9750\n",
            "Test accuracy: 0.9750000238418579\n"
          ]
        }
      ]
    },
    {
      "cell_type": "code",
      "source": [
        "def parse_equation(equation_string):\n",
        "    parts = equation_string.split('=')\n",
        "    left_expression = parts[0].strip()\n",
        "    right_expression = parts[1].strip()\n",
        "    return left_expression, right_expression\n",
        "\n",
        "# Example usage:\n",
        "equation_string = \"0+9=9\"\n",
        "left_expression, right_expression = parse_equation(equation_string)\n",
        "print(\"Left expression:\", left_expression)  # Output: \"0+9\"\n",
        "print(\"Right expression:\", right_expression)  # Output: \"9\""
      ],
      "metadata": {
        "colab": {
          "base_uri": "https://localhost:8080/"
        },
        "id": "Je1Wtaau-taw",
        "outputId": "e7fb8ffd-fc2d-4332-b86f-6b08bf87539a"
      },
      "execution_count": null,
      "outputs": [
        {
          "output_type": "stream",
          "name": "stdout",
          "text": [
            "Left expression: 0+9\n",
            "Right expression: 9\n"
          ]
        }
      ]
    },
    {
      "cell_type": "code",
      "source": [],
      "metadata": {
        "id": "QcdA1KqhDtDw"
      },
      "execution_count": null,
      "outputs": []
    }
  ]
}